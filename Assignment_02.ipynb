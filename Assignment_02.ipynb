{
  "nbformat": 4,
  "nbformat_minor": 0,
  "metadata": {
    "colab": {
      "name": "Assignment 02.ipynb",
      "provenance": [],
      "collapsed_sections": [],
      "include_colab_link": true
    },
    "kernelspec": {
      "name": "python3",
      "display_name": "Python 3"
    },
    "language_info": {
      "name": "python"
    }
  },
  "cells": [
    {
      "cell_type": "markdown",
      "metadata": {
        "id": "view-in-github",
        "colab_type": "text"
      },
      "source": [
        "<a href=\"https://colab.research.google.com/github/PJibin/test_project2/blob/main/Assignment_02.ipynb\" target=\"_parent\"><img src=\"https://colab.research.google.com/assets/colab-badge.svg\" alt=\"Open In Colab\"/></a>"
      ]
    },
    {
      "cell_type": "markdown",
      "source": [
        "김밥의 가격은? 5000\n",
        "  dict_values([5000, 3000, 2000])"
      ],
      "metadata": {
        "id": "UfzqqX_2AG14"
      }
    },
    {
      "cell_type": "code",
      "execution_count": null,
      "metadata": {
        "colab": {
          "base_uri": "https://localhost:8080/"
        },
        "id": "N9YUsOry9nD0",
        "outputId": "3375bde8-e2ac-4c2e-de33-297d6bc9ddd0"
      },
      "outputs": [
        {
          "output_type": "stream",
          "name": "stdout",
          "text": [
            "김밥의 가격은? 5000\n"
          ]
        },
        {
          "output_type": "execute_result",
          "data": {
            "text/plain": [
              "dict_values([5000, 3000, 2000])"
            ]
          },
          "metadata": {},
          "execution_count": 28
        }
      ],
      "source": [
        "# 사전의 구조와 이해\n",
        "\n",
        "price = {'김밥': 5000, '어묵':3000, '떡볶이':2000}\n",
        "\n",
        "# blank\n",
        "print('김밥의 가격은?', price['김밥'])\n",
        "# blank\n",
        "price.values()"
      ]
    },
    {
      "cell_type": "code",
      "source": [
        "# 리스트의 슬라이싱을 사용하여 아래를 출력하세요\n",
        "\n",
        "tp = [1,2,3,4,5,6,7]\n",
        "\n",
        "# blank\n",
        "print(tp[0])\n",
        "# blank\n",
        "print(tp[:3])\n",
        "# blank\n",
        "print(tp[3:])\n",
        "# blank\n",
        "print(tp[6])\n",
        "# blank\n",
        "tp.sort(reverse = True)\n",
        "print(tp)"
      ],
      "metadata": {
        "colab": {
          "base_uri": "https://localhost:8080/"
        },
        "id": "lQCEERSl-Wba",
        "outputId": "3ce8f561-bfd9-4ce5-e2fa-104baa5367f5"
      },
      "execution_count": null,
      "outputs": [
        {
          "output_type": "stream",
          "name": "stdout",
          "text": [
            "1\n",
            "[1, 2, 3]\n",
            "[4, 5, 6, 7]\n",
            "7\n",
            "[7, 6, 5, 4, 3, 2, 1]\n"
          ]
        }
      ]
    },
    {
      "cell_type": "code",
      "source": [
        "# 조건문\n",
        "# 점수를 입력받아 등급을 출력하세요\n",
        "# 등급표 81~100\tA / 61~80\tB / 41~60\tC / 21~40\tD / 0~20\tE\n",
        "\n",
        "score = int(input(\"점수를 입력하세요: \"))\n",
        "\n",
        "# complete the blanks\n",
        "#\n",
        "if score < 21:\n",
        "  print('점수는',score,'점이며 등급은E등급입니다.')\n",
        "elif score < 41 :\n",
        " print('점수는',score,'점이며 등급은D등급입니다.')\n",
        "elif score < 61 :\n",
        " print('점수는',score,'점이며 등급은C등급입니다.')\n",
        "elif score < 81 :\n",
        " print('점수는',score,'점이며 등급은B등급입니다.')\n",
        "elif score < 101 :\n",
        " print('점수는',score,'점이며 등급은A등급입니다.')\n",
        "\n",
        "\n",
        "\n",
        "\n",
        "#\n",
        "######################\n"
      ],
      "metadata": {
        "colab": {
          "base_uri": "https://localhost:8080/"
        },
        "id": "YxX6NxrNCK5z",
        "outputId": "cce459d9-359b-4a75-f2a5-6dd5bc00708c"
      },
      "execution_count": null,
      "outputs": [
        {
          "output_type": "stream",
          "name": "stdout",
          "text": [
            "점수를 입력하세요: 67\n",
            "점수는 67 점이며 등급은B등급입니다.\n"
          ]
        }
      ]
    },
    {
      "cell_type": "code",
      "source": [
        "# 함수를 만들고 두 수를 입력받아 연산하세요\n",
        "\n",
        "a = int(input('첫 번째 정수를 입력하세요: '))\n",
        "b = int(input('두 번째 정수를 입력하세요: '))\n",
        "\n",
        "# complete the blanks\n",
        "#\n",
        "def add (a,b):\n",
        "  add = a+ b\n",
        "  return add\n",
        "\n",
        "def multiply (a,b):\n",
        "  multiply = a * b\n",
        "  return multiply\n",
        "\n",
        "def square (a,b):\n",
        "  square = a**b\n",
        "  return square\n",
        "\n",
        "print('덧셈 함수 연산:',add(a,b))\n",
        "print('곱셈 함수 연산:',multiply(a,b))\n",
        "print('제곱 함수 연산:',square(a,b))\n",
        "\n",
        "\n",
        "#\n",
        "######################\n"
      ],
      "metadata": {
        "colab": {
          "base_uri": "https://localhost:8080/"
        },
        "id": "mD9n7jRG-8qL",
        "outputId": "0944a02e-a4cf-490f-b69c-e3f5b6ea5eae"
      },
      "execution_count": null,
      "outputs": [
        {
          "output_type": "stream",
          "name": "stdout",
          "text": [
            "첫 번째 정수를 입력하세요: 3\n",
            "두 번째 정수를 입력하세요: 5\n",
            "덧셈 함수 연산: 8\n",
            "곱셈 함수 연산: 15\n",
            "제곱 함수 연산: 243\n"
          ]
        }
      ]
    },
    {
      "cell_type": "code",
      "source": [
        "5# 알고리즘 생성\n",
        "# 피보나치 수열을 계산하는 함수를 생성하고 자연수 10을 넣어 실행하세요\n",
        "\n",
        "# complete the blanks\n",
        "#\n",
        "def pivo(n) :\n",
        "  if n <= 1:\n",
        "    return n\n",
        "  else:\n",
        "    return pivo(n-1)+pivo(n-2)\n",
        "\n",
        "#\n",
        "######################\n",
        "\n",
        "print(pivo(10))\n"
      ],
      "metadata": {
        "colab": {
          "base_uri": "https://localhost:8080/"
        },
        "id": "OL3QMyusC9V0",
        "outputId": "3ccc493c-26ce-4c25-f17f-4ef3b36df6bd"
      },
      "execution_count": null,
      "outputs": [
        {
          "output_type": "stream",
          "name": "stdout",
          "text": [
            "55\n"
          ]
        }
      ]
    },
    {
      "cell_type": "code",
      "source": [
        "# 클래스\n",
        "# 사람 (Human) 클래스를 정의하고 (이름, 나이, 성별)을 받는 생성자를 추가하세요.\n",
        "class Human:\n",
        "  def __init__(self):\n",
        "   self.name = str(input('이름을 입력하세요: '))\n",
        "   self.age = int(input('나이를 입력하세요: '))\n",
        "   self.gender = str(input('성별을 입력하세요: '))\n",
        "\n",
        "data = Human()\n",
        "print(data.name)\n",
        "print(data.age)\n",
        "print(data.gender)\n",
        "   \n",
        "\n",
        "\n"
      ],
      "metadata": {
        "id": "nYv044w8Ae0Z",
        "colab": {
          "base_uri": "https://localhost:8080/"
        },
        "outputId": "a3c87064-1e8d-4a70-ab84-814fe5ec23db"
      },
      "execution_count": null,
      "outputs": [
        {
          "output_type": "stream",
          "name": "stdout",
          "text": [
            "이름을 입력하세요: 박지빈\n",
            "나이를 입력하세요: 25\n",
            "성별을 입력하세요: 남\n",
            "박지빈\n",
            "25\n",
            "남\n"
          ]
        }
      ]
    }
  ]
}